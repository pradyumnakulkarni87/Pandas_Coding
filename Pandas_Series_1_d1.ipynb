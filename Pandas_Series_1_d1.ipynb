{
 "cells": [
  {
   "cell_type": "markdown",
   "id": "8b195e0a",
   "metadata": {},
   "source": [
    "## Pandas"
   ]
  },
  {
   "cell_type": "markdown",
   "id": "3ec74632",
   "metadata": {},
   "source": [
    "## Data analysis library"
   ]
  },
  {
   "cell_type": "markdown",
   "id": "7156c1d0",
   "metadata": {},
   "source": [
    "### It has 3 data structures:\n",
    "    1. Series (one dim ds)\n",
    "    2. DataFrame (2D ds)\n",
    "    3. Panel (Combination of Series and df)"
   ]
  },
  {
   "cell_type": "markdown",
   "id": "7800fefa",
   "metadata": {},
   "source": [
    "# Series-1D"
   ]
  },
  {
   "cell_type": "code",
   "execution_count": 1,
   "id": "a4d4230f",
   "metadata": {},
   "outputs": [
    {
     "data": {
      "text/plain": [
       "<module 'pandas' from 'c:\\\\users\\\\pradyumna kulkarni\\\\appdata\\\\local\\\\programs\\\\python\\\\python39\\\\lib\\\\site-packages\\\\pandas\\\\__init__.py'>"
      ]
     },
     "execution_count": 1,
     "metadata": {},
     "output_type": "execute_result"
    }
   ],
   "source": [
    "import pandas as pd\n",
    "pd"
   ]
  },
  {
   "cell_type": "raw",
   "id": "92313ee7",
   "metadata": {},
   "source": [
    "pd.Series(data=None,\n",
    "    index=None,\n",
    "    dtype=None,\n",
    "    name=None,\n",
    "    copy=False,\n",
    "    fastpath=False,)"
   ]
  },
  {
   "cell_type": "code",
   "execution_count": 3,
   "id": "362e9b4f",
   "metadata": {},
   "outputs": [
    {
     "name": "stdout",
     "output_type": "stream",
     "text": [
      "Series([], dtype: float64)\n"
     ]
    },
    {
     "name": "stderr",
     "output_type": "stream",
     "text": [
      "/srv/conda/envs/notebook/lib/python3.6/site-packages/ipykernel_launcher.py:1: DeprecationWarning: The default dtype for empty Series will be 'object' instead of 'float64' in a future version. Specify a dtype explicitly to silence this warning.\n",
      "  \"\"\"Entry point for launching an IPython kernel.\n"
     ]
    }
   ],
   "source": [
    "print(pd.Series())"
   ]
  },
  {
   "cell_type": "code",
   "execution_count": 4,
   "id": "438d6a6d",
   "metadata": {},
   "outputs": [
    {
     "data": {
      "text/plain": [
       "Series([], dtype: object)"
      ]
     },
     "execution_count": 4,
     "metadata": {},
     "output_type": "execute_result"
    }
   ],
   "source": [
    "#how to create empty series\n",
    "pd.Series(dtype='object')"
   ]
  },
  {
   "cell_type": "code",
   "execution_count": 5,
   "id": "8cf128fe",
   "metadata": {},
   "outputs": [
    {
     "data": {
      "text/plain": [
       "0    10\n",
       "1    20\n",
       "2    30\n",
       "3    40\n",
       "4    50\n",
       "dtype: int64"
      ]
     },
     "execution_count": 5,
     "metadata": {},
     "output_type": "execute_result"
    }
   ],
   "source": [
    "#how to add data\n",
    "data = [10,20,30,40,50]\n",
    "pd.Series(data)"
   ]
  },
  {
   "cell_type": "raw",
   "id": "5d3ec002",
   "metadata": {},
   "source": [
    "Series is composed of 2 things: index(label),values(data)\n",
    "Index/label    values\n",
    "0               10\n",
    "1               20\n",
    "2               30\n",
    "3               40\n"
   ]
  },
  {
   "cell_type": "markdown",
   "id": "20c7a7a7",
   "metadata": {},
   "source": [
    "### if u want to change index?"
   ]
  },
  {
   "cell_type": "code",
   "execution_count": 15,
   "id": "2f709606",
   "metadata": {},
   "outputs": [
    {
     "data": {
      "text/plain": [
       "101    10\n",
       "102    20\n",
       "103    30\n",
       "104    40\n",
       "105    50\n",
       "dtype: int64"
      ]
     },
     "execution_count": 15,
     "metadata": {},
     "output_type": "execute_result"
    }
   ],
   "source": [
    "pd.Series(data,index=[101,102,103,104,105])"
   ]
  },
  {
   "cell_type": "markdown",
   "id": "af00d26c",
   "metadata": {},
   "source": [
    "### want to change dtype?"
   ]
  },
  {
   "cell_type": "code",
   "execution_count": 16,
   "id": "38c1a2b7",
   "metadata": {},
   "outputs": [
    {
     "data": {
      "text/plain": [
       "0    10\n",
       "1    20\n",
       "2    30\n",
       "3    40\n",
       "4    50\n",
       "dtype: int64"
      ]
     },
     "execution_count": 16,
     "metadata": {},
     "output_type": "execute_result"
    }
   ],
   "source": [
    "pd.Series(data)"
   ]
  },
  {
   "cell_type": "code",
   "execution_count": 25,
   "id": "2412faea",
   "metadata": {},
   "outputs": [
    {
     "data": {
      "text/plain": [
       "0    10.0\n",
       "1    20.0\n",
       "2    30.0\n",
       "3    40.0\n",
       "4    50.0\n",
       "dtype: float16"
      ]
     },
     "execution_count": 25,
     "metadata": {},
     "output_type": "execute_result"
    }
   ],
   "source": [
    "pd.Series(data,dtype='float16')"
   ]
  },
  {
   "cell_type": "markdown",
   "id": "61921b07",
   "metadata": {},
   "source": [
    "# pd.Series(data,index,dtype,name)"
   ]
  },
  {
   "cell_type": "code",
   "execution_count": 26,
   "id": "3c49daab",
   "metadata": {},
   "outputs": [
    {
     "data": {
      "text/plain": [
       "0     Vishal\n",
       "1      Kedar\n",
       "2      Juber\n",
       "3    Anupama\n",
       "4    Pradnya\n",
       "dtype: object"
      ]
     },
     "execution_count": 26,
     "metadata": {},
     "output_type": "execute_result"
    }
   ],
   "source": [
    "pd.Series(['Vishal','Kedar','Juber','Anupama','Pradnya'])"
   ]
  },
  {
   "cell_type": "code",
   "execution_count": 27,
   "id": "37f1a044",
   "metadata": {},
   "outputs": [
    {
     "data": {
      "text/plain": [
       "0        1\n",
       "1    23.44\n",
       "2        A\n",
       "dtype: object"
      ]
     },
     "execution_count": 27,
     "metadata": {},
     "output_type": "execute_result"
    }
   ],
   "source": [
    "pd.Series([1,23.44,'A'])"
   ]
  },
  {
   "cell_type": "code",
   "execution_count": 30,
   "id": "fd120d0b",
   "metadata": {},
   "outputs": [
    {
     "data": {
      "text/plain": [
       "0    1\n",
       "1    2\n",
       "2    3\n",
       "3    4\n",
       "dtype: object"
      ]
     },
     "execution_count": 30,
     "metadata": {},
     "output_type": "execute_result"
    }
   ],
   "source": [
    "#int ==> str conversiion of series\n",
    "pd.Series([1,2,3,4],dtype='object')"
   ]
  },
  {
   "cell_type": "code",
   "execution_count": 4,
   "id": "427b9dc0",
   "metadata": {},
   "outputs": [
    {
     "data": {
      "text/plain": [
       "0    1\n",
       "1    2\n",
       "2    3\n",
       "3    4\n",
       "Name: s, dtype: int64"
      ]
     },
     "execution_count": 4,
     "metadata": {},
     "output_type": "execute_result"
    }
   ],
   "source": [
    "pd.Series([1,2,3,4],name='s')\n"
   ]
  },
  {
   "cell_type": "code",
   "execution_count": 6,
   "id": "9f096e13",
   "metadata": {},
   "outputs": [],
   "source": [
    "s = pd.Series(['  alok','Pradnya **',' Aj$ ay'])"
   ]
  },
  {
   "cell_type": "code",
   "execution_count": 7,
   "id": "981fa4cd",
   "metadata": {},
   "outputs": [
    {
     "data": {
      "text/plain": [
       "0          alok\n",
       "1    Pradnya **\n",
       "2        Aj$ ay\n",
       "dtype: object"
      ]
     },
     "execution_count": 7,
     "metadata": {},
     "output_type": "execute_result"
    }
   ],
   "source": [
    "s"
   ]
  },
  {
   "cell_type": "code",
   "execution_count": null,
   "id": "4cec6d30",
   "metadata": {},
   "outputs": [],
   "source": []
  }
 ],
 "metadata": {
  "kernelspec": {
   "display_name": "Python 3 (ipykernel)",
   "language": "python",
   "name": "python3"
  },
  "language_info": {
   "codemirror_mode": {
    "name": "ipython",
    "version": 3
   },
   "file_extension": ".py",
   "mimetype": "text/x-python",
   "name": "python",
   "nbconvert_exporter": "python",
   "pygments_lexer": "ipython3",
   "version": "3.9.7"
  }
 },
 "nbformat": 4,
 "nbformat_minor": 5
}
